{
 "cells": [
  {
   "cell_type": "code",
   "execution_count": 1,
   "metadata": {},
   "outputs": [
    {
     "name": "stdout",
     "output_type": "stream",
     "text": [
      "Defaulting to user installation because normal site-packages is not writeable\n",
      "Requirement already satisfied: torch in /Users/andy/Library/Python/3.9/lib/python/site-packages (2.6.0)\n",
      "Requirement already satisfied: filelock in /Users/andy/Library/Python/3.9/lib/python/site-packages (from torch) (3.16.1)\n",
      "Requirement already satisfied: typing-extensions>=4.10.0 in /Users/andy/Library/Python/3.9/lib/python/site-packages (from torch) (4.12.2)\n",
      "Requirement already satisfied: networkx in /Users/andy/Library/Python/3.9/lib/python/site-packages (from torch) (3.2.1)\n",
      "Requirement already satisfied: jinja2 in /Users/andy/Library/Python/3.9/lib/python/site-packages (from torch) (3.1.4)\n",
      "Requirement already satisfied: fsspec in /Users/andy/Library/Python/3.9/lib/python/site-packages (from torch) (2024.10.0)\n",
      "Requirement already satisfied: sympy==1.13.1 in /Users/andy/Library/Python/3.9/lib/python/site-packages (from torch) (1.13.1)\n",
      "Requirement already satisfied: mpmath<1.4,>=1.1.0 in /Users/andy/Library/Python/3.9/lib/python/site-packages (from sympy==1.13.1->torch) (1.3.0)\n",
      "Requirement already satisfied: MarkupSafe>=2.0 in /Users/andy/Library/Python/3.9/lib/python/site-packages (from jinja2->torch) (3.0.2)\n",
      "2.6.0\n"
     ]
    }
   ],
   "source": [
    "# Install required packages.\n",
    "!pip install torch\n",
    "\n",
    "import os\n",
    "import torch\n",
    "import numpy as np\n",
    "from tqdm import tqdm \n",
    "\n",
    "os.environ['TORCH'] = torch.__version__\n",
    "print(torch.__version__)\n",
    "\n",
    "!pip install -q torch-scatter -f https://data.pyg.org/whl/torch-${TORCH}.html\n",
    "!pip install -q torch-sparse -f https://data.pyg.org/whl/torch-${TORCH}.html\n",
    "!pip install -q git+https://github.com/pyg-team/pytorch_geometric.git"
   ]
  },
  {
   "cell_type": "code",
   "execution_count": 2,
   "metadata": {},
   "outputs": [
    {
     "name": "stdout",
     "output_type": "stream",
     "text": [
      "cpu\n"
     ]
    }
   ],
   "source": [
    "device = torch.device('cuda' if torch.cuda.is_available() else 'cpu')\n",
    "print(device)"
   ]
  },
  {
   "cell_type": "code",
   "execution_count": 5,
   "metadata": {},
   "outputs": [],
   "source": [
    "from construct_dataset import SolutionDataset\n",
    "dataset = SolutionDataset(root='../edges', dims=194) # added pca projection to co-occurrences"
   ]
  },
  {
   "cell_type": "code",
   "execution_count": 6,
   "metadata": {},
   "outputs": [
    {
     "name": "stdout",
     "output_type": "stream",
     "text": [
      "\n",
      "Dataset: SolutionDataset(319120):\n",
      "====================\n",
      "Number of graphs: 319120\n",
      "Number of features: 194\n"
     ]
    }
   ],
   "source": [
    "print()\n",
    "print(f'Dataset: {dataset}:')\n",
    "print('====================')\n",
    "print(f'Number of graphs: {len(dataset)}')\n",
    "print(f'Number of features: {dataset.num_features}') # = dims\n",
    "# print(f'Number of classes: {dataset.num_classes}')"
   ]
  },
  {
   "cell_type": "code",
   "execution_count": 7,
   "metadata": {},
   "outputs": [],
   "source": [
    "def printstats(index):\n",
    "    data = dataset[index]  \n",
    "\n",
    "    print()\n",
    "    print(data)\n",
    "    print('=============================================================')\n",
    "    print(f'Number of nodes: {data.num_nodes}')\n",
    "    print(f'Number of edges: {data.num_edges}')\n",
    "    print(f'Average node degree: {data.num_edges / data.num_nodes:.2f}')\n",
    "    print(f'Has isolated nodes: {data.has_isolated_nodes()}')\n",
    "    print(f'Has self-loops: {data.has_self_loops()}')\n",
    "    print(f'Is undirected: {data.is_undirected()}')\n",
    "    print('=============================================================')\n",
    "    print(f'Data.x: {data.x}')\n",
    "    print(f'Data.y: {data.y}')\n",
    "\n",
    "    return (data.x, data.y)"
   ]
  },
  {
   "cell_type": "code",
   "execution_count": 8,
   "metadata": {},
   "outputs": [],
   "source": [
    "def printstats_obj(data):\n",
    "    print()\n",
    "    print(data)\n",
    "    print('=============================================================')\n",
    "    print(f'Number of nodes: {data.num_nodes}')\n",
    "    print(f'Number of edges: {data.num_edges}')\n",
    "    print(f'Average node degree: {data.num_edges / data.num_nodes:.2f}')\n",
    "    print(f'Has isolated nodes: {data.has_isolated_nodes()}')\n",
    "    print(f'Has self-loops: {data.has_self_loops()}')\n",
    "    print(f'Is undirected: {data.is_undirected()}')\n",
    "    print('=============================================================')\n",
    "    print(f'Data.x: {data.x}')\n",
    "    print(f'Data.y: {data.y}')\n",
    "\n",
    "    return (data.x, data.y)"
   ]
  },
  {
   "cell_type": "code",
   "execution_count": 9,
   "metadata": {},
   "outputs": [
    {
     "name": "stdout",
     "output_type": "stream",
     "text": [
      "\n",
      "Data(edge_index=[2, 717], name=[718], num_nodes=718, x=[718, 194], y=0)\n",
      "=============================================================\n",
      "Number of nodes: 718\n",
      "Number of edges: 717\n",
      "Average node degree: 1.00\n",
      "Has isolated nodes: False\n",
      "Has self-loops: False\n",
      "Is undirected: False\n",
      "=============================================================\n",
      "Data.x: tensor([[ 1.1583e+01,  1.8985e-01,  1.1228e-02,  ..., -1.3974e-01,\n",
      "         -1.3974e-01, -1.3974e-01],\n",
      "        [ 6.7340e-01,  1.2362e+01, -1.4642e-01,  ..., -1.4642e-01,\n",
      "         -1.4642e-01, -1.4642e-01],\n",
      "        [-1.0237e-01,  2.3053e-02, -1.0237e-01,  ..., -1.0237e-01,\n",
      "         -1.0237e-01, -1.0237e-01],\n",
      "        ...,\n",
      "        [-1.4363e-01, -1.5694e-01, -1.5694e-01,  ..., -1.5481e-01,\n",
      "         -1.5481e-01, -1.5694e-01],\n",
      "        [-9.7487e-02, -9.7487e-02, -9.7487e-02,  ..., -9.7487e-02,\n",
      "         -9.7487e-02, -9.7487e-02],\n",
      "        [-1.0291e-01, -1.0291e-01, -1.0291e-01,  ..., -1.0291e-01,\n",
      "         -1.0291e-01, -1.0291e-01]])\n",
      "Data.y: 0\n"
     ]
    }
   ],
   "source": [
    "x1, y1 = printstats(0)"
   ]
  },
  {
   "cell_type": "code",
   "execution_count": 10,
   "metadata": {},
   "outputs": [
    {
     "name": "stdout",
     "output_type": "stream",
     "text": [
      "194\n",
      "2526\n"
     ]
    }
   ],
   "source": [
    "NODE_FEATURES = dataset.num_features\n",
    "NUM_CLASSES = dataset[-1].y.item() + 1\n",
    "\n",
    "print(NODE_FEATURES)\n",
    "print(NUM_CLASSES)"
   ]
  },
  {
   "cell_type": "code",
   "execution_count": null,
   "metadata": {},
   "outputs": [
    {
     "name": "stderr",
     "output_type": "stream",
     "text": [
      "Exception ignored in: <bound method IPythonKernel._clean_thread_parent_frames of <ipykernel.ipkernel.IPythonKernel object at 0x1074630a0>>\n",
      "Traceback (most recent call last):\n",
      "  File \"/Users/andy/Library/Python/3.9/lib/python/site-packages/ipykernel/ipkernel.py\", line 775, in _clean_thread_parent_frames\n",
      "    def _clean_thread_parent_frames(\n",
      "KeyboardInterrupt: \n"
     ]
    }
   ],
   "source": [
    "from torch_geometric.data import Dataset\n",
    "from torch_geometric.loader import DataLoader\n",
    "\n",
    "class LazyGraphDataset(Dataset):\n",
    "    def __init__(self, chunk_dir, transform=None):\n",
    "        \"\"\"\n",
    "        Args:\n",
    "            chunk_dir (str): Directory where chunk files are stored.\n",
    "        \"\"\"\n",
    "        super().__init__(None, transform, None)\n",
    "        # List all chunk files in the given directory\n",
    "        self.chunk_files = sorted([\n",
    "            os.path.join(chunk_dir, f) for f in os.listdir(chunk_dir)\n",
    "            if f.endswith('.pt')\n",
    "        ])\n",
    "        # Build cumulative sizes to map a global index to a chunk file and local index.\n",
    "        self.cum_sizes = []\n",
    "        total = 0\n",
    "        self.samples_per_chunk = []\n",
    "        for file in self.chunk_files:\n",
    "            data_list = torch.load(file, weights_only=False)\n",
    "            count = len(data_list)\n",
    "            self.samples_per_chunk.append(count)\n",
    "            total += count\n",
    "            self.cum_sizes.append(total)\n",
    "        self.total_samples = total\n",
    "\n",
    "        # Simple cache to avoid reloading the same chunk repeatedly.\n",
    "        self._cache_file = None\n",
    "        self._cache_data = None\n",
    "\n",
    "    def len(self):\n",
    "        return self.total_samples\n",
    "    \n",
    "    def get(self, idx):\n",
    "        # Determine which chunk file holds the sample at global index idx.\n",
    "        chunk_idx = 0\n",
    "        for i, cum_size in enumerate(self.cum_sizes):\n",
    "            if idx < cum_size:\n",
    "                chunk_idx = i\n",
    "                break\n",
    "        local_idx = idx if chunk_idx == 0 else idx - self.cum_sizes[chunk_idx - 1]\n",
    "\n",
    "        current_file = self.chunk_files[chunk_idx]\n",
    "        if self._cache_file == current_file:\n",
    "            data_list = self._cache_data\n",
    "        else:\n",
    "            data_list = torch.load(current_file, weights_only=False)\n",
    "            self._cache_file = current_file\n",
    "            self._cache_data = data_list\n",
    "\n",
    "        data = data_list[local_idx]\n",
    "\n",
    "        # If the graph is empty, add a dummy node and mark the graph as dummy.\n",
    "        if data.x is None or data.x.size(0) == 0:\n",
    "            data.x = torch.zeros((1, NODE_FEATURES), dtype=torch.float)\n",
    "            data.edge_index = torch.empty((2, 0), dtype=torch.long)\n",
    "            # Use an invalid label (for example, -1) or any placeholder\n",
    "            data.y = torch.tensor(-1, dtype=torch.long)\n",
    "            data.is_dummy = torch.tensor(1, dtype=torch.long)\n",
    "        else:\n",
    "            data.is_dummy = torch.tensor(0, dtype=torch.long)\n",
    "        \n",
    "        # Ensure that every Data object has a \"name\" attribute.\n",
    "        # If missing, add it with a default value (e.g., an empty string).\n",
    "        if not hasattr(data, 'name'):\n",
    "            data.name = \"\"\n",
    "        \n",
    "        return data\n",
    "\n",
    "# Create lazy datasets for training and testing\n",
    "train_dataset = LazyGraphDataset(chunk_dir=f'train/{NODE_FEATURES}d')\n",
    "test_dataset = LazyGraphDataset(chunk_dir=f'test/{NODE_FEATURES}d')"
   ]
  },
  {
   "cell_type": "code",
   "execution_count": 30,
   "metadata": {},
   "outputs": [],
   "source": [
    "# Create DataLoaders that load batches on the fly.\n",
    "train_loader = DataLoader(train_dataset, batch_size=1, shuffle=False, num_workers=0)\n",
    "test_loader = DataLoader(test_dataset, batch_size=1, shuffle=False, num_workers=0)"
   ]
  },
  {
   "cell_type": "code",
   "execution_count": 39,
   "metadata": {},
   "outputs": [
    {
     "name": "stdout",
     "output_type": "stream",
     "text": [
      "DataBatch(edge_index=[2, 717], name=[1], num_nodes=718, x=[718, 194], y=[1], is_dummy=[1], batch=[718], ptr=[2])\n",
      "\n",
      "DataBatch(edge_index=[2, 717], name=[1], num_nodes=718, x=[718, 194], y=[1], is_dummy=[1], batch=[718], ptr=[2])\n",
      "=============================================================\n",
      "Number of nodes: 718\n",
      "Number of edges: 717\n",
      "Average node degree: 1.00\n",
      "Has isolated nodes: False\n",
      "Has self-loops: False\n",
      "Is undirected: False\n",
      "=============================================================\n",
      "Data.x: tensor([[ 1.1583e+01,  1.8985e-01,  1.1228e-02,  ..., -1.3974e-01,\n",
      "         -1.3974e-01, -1.3974e-01],\n",
      "        [ 6.7340e-01,  1.2362e+01, -1.4642e-01,  ..., -1.4642e-01,\n",
      "         -1.4642e-01, -1.4642e-01],\n",
      "        [-1.0237e-01,  2.3053e-02, -1.0237e-01,  ..., -1.0237e-01,\n",
      "         -1.0237e-01, -1.0237e-01],\n",
      "        ...,\n",
      "        [-1.4363e-01, -1.5694e-01, -1.5694e-01,  ..., -1.5481e-01,\n",
      "         -1.5481e-01, -1.5694e-01],\n",
      "        [-9.7487e-02, -9.7487e-02, -9.7487e-02,  ..., -9.7487e-02,\n",
      "         -9.7487e-02, -9.7487e-02],\n",
      "        [-1.0291e-01, -1.0291e-01, -1.0291e-01,  ..., -1.0291e-01,\n",
      "         -1.0291e-01, -1.0291e-01]])\n",
      "Data.y: tensor([0])\n"
     ]
    }
   ],
   "source": [
    "for batch in train_loader:\n",
    "    if batch is None or batch.x.size(0) == 0:\n",
    "        continue\n",
    "    print(batch)\n",
    "    printstats_obj(batch)\n",
    "    break"
   ]
  },
  {
   "cell_type": "code",
   "execution_count": 99,
   "metadata": {},
   "outputs": [],
   "source": [
    "def global_stats_pool(data):\n",
    "    \"\"\"\n",
    "    Compute a richer graph-level embedding by concatenating:\n",
    "      - The mean of node features,\n",
    "      - The maximum of node features,\n",
    "      - The standard deviation of node features.\n",
    "    If the graph is empty, return a zero vector.\n",
    "    \"\"\"\n",
    "    feature_dim = NODE_FEATURES  # Known number of features.\n",
    "    if data is None or data.x.size(0) == 0:\n",
    "        return torch.zeros(feature_dim * 3, device=device)\n",
    "    mean = data.x.mean(dim=0)\n",
    "    max_val = data.x.max(dim=0)[0]\n",
    "    std = data.x.std(dim=0, unbiased=False)\n",
    "    return torch.cat([mean, max_val, std], dim=0)"
   ]
  },
  {
   "cell_type": "code",
   "execution_count": 100,
   "metadata": {},
   "outputs": [],
   "source": [
    "def concat_pad_embedding(data, max_nodes):\n",
    "    \"\"\"\n",
    "    Default embedding method: Concatenates the node feature vectors (assumed to be in preorder)\n",
    "    from a graph, then truncates or pads them to a fixed number of nodes, and finally flattens\n",
    "    the result into a single vector.\n",
    "    \n",
    "    Args:\n",
    "        data (Data): A torch_geometric Data object with data.x of shape [num_nodes, feature_dim].\n",
    "        max_nodes (int): The fixed number of nodes to use for the embedding.\n",
    "    \n",
    "    Returns:\n",
    "        torch.Tensor: A tensor of shape [1, max_nodes * feature_dim].\n",
    "    \"\"\"\n",
    "    if data.x.size(0) == 0:\n",
    "        # If there are no nodes, return a zero vector.\n",
    "        feature_dim = data.x.size(1) if data.x.dim() > 1 else 0\n",
    "        return torch.zeros(1, max_nodes * feature_dim, device=data.x.device)\n",
    "    \n",
    "    num_nodes = data.x.size(0)\n",
    "    feature_dim = data.x.size(1)\n",
    "    \n",
    "    if num_nodes >= max_nodes:\n",
    "        selected = data.x[:max_nodes]\n",
    "    else:\n",
    "        pad_size = max_nodes - num_nodes\n",
    "        padding = torch.zeros(pad_size, feature_dim, device=data.x.device)\n",
    "        selected = torch.cat([data.x, padding], dim=0)\n",
    "    \n",
    "    # Flatten the [max_nodes, feature_dim] matrix into a vector.\n",
    "    embedding = selected.view(1, -1)\n",
    "    return embedding"
   ]
  },
  {
   "cell_type": "code",
   "execution_count": null,
   "metadata": {},
   "outputs": [],
   "source": [
    "from sklearn.decomposition import PCA\n",
    "\n",
    "class KNNClassifier:\n",
    "    def __init__(self, embedding_method=None, k=1, pca_dim=128, max_nodes=512):\n",
    "        \"\"\"\n",
    "        Args:\n",
    "            embedding_method (callable, optional): A function that takes a graph Data object\n",
    "                and returns a 2D tensor of shape [1, d] as its embedding. If None, a default\n",
    "                embedding method that concatenates node features (with truncation/padding) is used.\n",
    "            k (int): Number of nearest neighbors.\n",
    "            pca_dim (int): Target dimensionality for the graph-level PCA.\n",
    "            max_nodes (int): Fixed number of nodes per graph (for truncation/padding).\n",
    "        \"\"\"\n",
    "        self.k = k\n",
    "        self.pca_dim = pca_dim\n",
    "        self.max_nodes = max_nodes\n",
    "        \n",
    "        # If no embedding method is provided, use the default concat_pad_embedding.\n",
    "        if embedding_method is None:\n",
    "            self.embedding_method = lambda data: concat_pad_embedding(data, self.max_nodes)\n",
    "        else:\n",
    "            self.embedding_method = embedding_method\n",
    "        \n",
    "        self.train_embeddings = None  # Graph-level PCA-transformed embeddings.\n",
    "        self.train_labels = None      # Tensor of shape [N]\n",
    "        self.pca = None             # Graph-level PCA (fitted on concatenated embeddings).\n",
    "    \n",
    "    def update_k(self, new_k):\n",
    "        \"\"\"Update the number of nearest neighbors used at inference time.\"\"\"\n",
    "        self.k = new_k\n",
    "    \n",
    "    def get_embedding(self, data):\n",
    "        \"\"\"\n",
    "        Get the graph-level raw embedding using the provided embedding method.\n",
    "        \n",
    "        Args:\n",
    "            data: A torch_geometric Data object.\n",
    "        \n",
    "        Returns:\n",
    "            torch.Tensor: A tensor of shape [1, d] representing the embedding.\n",
    "        \"\"\"\n",
    "        return self.embedding_method(data)\n",
    "    \n",
    "    def fit(self, loader):\n",
    "        \"\"\"\n",
    "        Fit the KNN classifier by computing graph-level raw embeddings for the training set,\n",
    "        then fitting a PCA model to reduce their dimensionality.\n",
    "        \n",
    "        Args:\n",
    "            loader: A DataLoader that yields graph Data objects (assumed batch size = 1).\n",
    "        \"\"\"\n",
    "        embeddings = []\n",
    "        labels = []\n",
    "        for batch in tqdm(loader, desc=\"Fitting\"):\n",
    "            if batch is None or batch.x.size(0) == 0:\n",
    "                continue\n",
    "            emb = self.get_embedding(batch)  # Expected shape: [1, d]\n",
    "            # If batch contains more than one graph (unlikely with batch_size=1),\n",
    "            # iterate over them.\n",
    "            for i in range(emb.size(0)):\n",
    "                embeddings.append(emb[i].unsqueeze(0))\n",
    "                labels.append(batch.y[i].item())\n",
    "        if embeddings:\n",
    "            raw_embeddings = torch.cat(embeddings, dim=0)  # Shape: [N, d]\n",
    "            self.train_labels = torch.tensor(labels, dtype=torch.long)\n",
    "            raw_np = raw_embeddings.cpu().numpy()\n",
    "            self.pca = PCA(n_components=self.pca_dim)\n",
    "            transformed = self.pca.fit_transform(raw_np)\n",
    "            self.train_embeddings = torch.tensor(transformed, dtype=torch.float)\n",
    "        else:\n",
    "            self.train_embeddings = torch.empty((0, self.pca_dim))\n",
    "            self.train_labels = torch.empty((0,), dtype=torch.long)\n",
    "    \n",
    "    def predict(self, data, metric=\"cosine\", top_c=1):\n",
    "        \"\"\"\n",
    "        Predict the top c label(s) for one or more graphs.\n",
    "        \n",
    "        Args:\n",
    "            data: A torch_geometric Data object (or batch) for which to predict labels.\n",
    "            metric (str): Similarity metric to use. Options are \"cosine\" (default),\n",
    "                        \"manhattan\", or \"euclidean\".\n",
    "            top_c (int): Number of top predicted labels to return per sample (c <= k).\n",
    "            \n",
    "        Returns:\n",
    "            torch.Tensor: A tensor of shape [B, top_c] containing the top c predicted labels\n",
    "                        for each graph.\n",
    "        \"\"\"\n",
    "        embeddings_raw = self.get_embedding(data)  # Expected shape: [B, d]\n",
    "        if self.pca is None:\n",
    "            return torch.zeros((embeddings_raw.size(0), top_c), dtype=torch.long)\n",
    "        \n",
    "        embeddings_np = embeddings_raw.cpu().detach().numpy()\n",
    "        if embeddings_np.ndim == 1:\n",
    "            embeddings_np = embeddings_np.reshape(1, -1)\n",
    "        \n",
    "        transformed_np = self.pca.transform(embeddings_np)  # Shape: [B, pca_dim]\n",
    "        embeddings_transformed = torch.tensor(transformed_np, dtype=torch.float)\n",
    "        \n",
    "        if self.train_embeddings.size(0) == 0:\n",
    "            return torch.zeros((embeddings_transformed.size(0), top_c), dtype=torch.long)\n",
    "        \n",
    "        # Compute pairwise distances using the specified metric.\n",
    "        if metric == \"euclidean\":\n",
    "            dists = torch.cdist(embeddings_transformed, self.train_embeddings, p=2)\n",
    "        elif metric == \"manhattan\":\n",
    "            dists = torch.cdist(embeddings_transformed, self.train_embeddings, p=1)\n",
    "        elif metric == \"cosine\":\n",
    "            # Normalize to compute cosine similarity.\n",
    "            q_norm = embeddings_transformed / embeddings_transformed.norm(dim=1, keepdim=True)\n",
    "            t_norm = self.train_embeddings / self.train_embeddings.norm(dim=1, keepdim=True)\n",
    "            similarity = torch.mm(q_norm, t_norm.t())\n",
    "            dists = 1 - similarity\n",
    "        else:\n",
    "            raise ValueError(f\"Unsupported metric: {metric}\")\n",
    "        \n",
    "        batch_preds = []\n",
    "        for i in range(dists.size(0)):\n",
    "            dist = dists[i]\n",
    "            # Get indices of the k nearest neighbors.\n",
    "            knn_indices = torch.topk(dist, self.k, largest=False).indices\n",
    "            knn_labels = self.train_labels[knn_indices].flatten().long()\n",
    "            if knn_labels.numel() == 0 or (knn_labels < 0).any():\n",
    "                batch_preds.append([0] * top_c)\n",
    "            else:\n",
    "                counts = torch.bincount(knn_labels)\n",
    "                # Retrieve top_c labels by vote count.\n",
    "                num_available = counts.size(0)\n",
    "                num_to_get = min(top_c, num_available)\n",
    "                top_counts, top_labels = torch.topk(counts, num_to_get, largest=True)\n",
    "                pred_labels = top_labels.tolist()\n",
    "                # If there are fewer than top_c unique labels, pad with zeros.\n",
    "                if len(pred_labels) < top_c:\n",
    "                    pred_labels += [0] * (top_c - len(pred_labels))\n",
    "                batch_preds.append(pred_labels)\n",
    "        return torch.tensor(batch_preds)\n"
   ]
  },
  {
   "cell_type": "code",
   "execution_count": 120,
   "metadata": {},
   "outputs": [],
   "source": [
    "import joblib\n",
    "\n",
    "# definitions for saving/loading knn\n",
    "\n",
    "def save_knn(knn_model, file_prefix):\n",
    "        \"\"\"\n",
    "        Save the training embeddings and labels to disk.\n",
    "        Parameters:\n",
    "            file_prefix (str): A prefix for the saved file names.\n",
    "        This method will save:\n",
    "          - Embeddings to '<file_prefix>_embeddings.pt'\n",
    "          - Labels to '<file_prefix>_labels.pt'\n",
    "          - PCA model (if available) to '<file_prefix>_pca.joblib'\n",
    "        \"\"\"\n",
    "        if knn_model.train_embeddings is None or knn_model.train_labels is None:\n",
    "            print(\"No training data available to save.\")\n",
    "            return\n",
    "\n",
    "        torch.save(knn_model.train_embeddings, f\"{file_prefix}_embeddings.pt\")\n",
    "        torch.save(knn_model.train_labels, f\"{file_prefix}_labels.pt\")\n",
    "        print(f\"Saved embeddings to {file_prefix}_embeddings.pt\")\n",
    "        print(f\"Saved labels to {file_prefix}_labels.pt\")\n",
    "        \n",
    "        if knn_model.pca is not None:\n",
    "            joblib.dump(knn_model.pca, f\"{file_prefix}_pca.joblib\")\n",
    "            print(f\"Saved PCA model to {file_prefix}_pca.joblib\")\n",
    "\n",
    "def load_knn(file_prefix, embedding_method, pca_dim=100, max_nodes=512):\n",
    "        \"\"\"\n",
    "        Load a KNNClassifier from previously saved training data.\n",
    "        This method loads:\n",
    "          - '{file_prefix}_embeddings.pt'\n",
    "          - '{file_prefix}_labels.pt'\n",
    "          - '{file_prefix}_pca.joblib' (if available)\n",
    "        Returns:\n",
    "            An instance of KNNClassifier with the loaded data.\n",
    "        \"\"\"\n",
    "        instance = KNNClassifier(k=1, embedding_method=embedding_method, pca_dim=pca_dim, max_nodes=max_nodes)\n",
    "        try:\n",
    "            instance.train_embeddings = torch.load(f\"{file_prefix}_embeddings.pt\")\n",
    "            instance.train_labels = torch.load(f\"{file_prefix}_labels.pt\")\n",
    "            instance.pca = joblib.load(f\"{file_prefix}_pca.joblib\")\n",
    "            print(f\"Loaded embeddings, labels, and PCA model from '{file_prefix}'\")\n",
    "        except Exception as e:\n",
    "            print(\"Error loading saved KNN data:\", e)\n",
    "        return instance"
   ]
  },
  {
   "cell_type": "code",
   "execution_count": 78,
   "metadata": {},
   "outputs": [
    {
     "name": "stderr",
     "output_type": "stream",
     "text": [
      "Fitting: 100%|██████████| 287208/287208 [01:35<00:00, 3014.99it/s]\n"
     ]
    }
   ],
   "source": [
    "# Initialize and fit the KNN classifier!\n",
    "knn = KNNClassifier(embedding_method=None, pca_dim=NODE_FEATURES, max_nodes=512)\n",
    "knn.fit(train_loader)"
   ]
  },
  {
   "cell_type": "code",
   "execution_count": 79,
   "metadata": {},
   "outputs": [
    {
     "name": "stdout",
     "output_type": "stream",
     "text": [
      "Saved embeddings to knn/knn_concat_10d_embeddings.pt\n",
      "Saved labels to knn/knn_concat_10d_labels.pt\n",
      "Saved PCA model to knn/knn_concat_10d_pca.joblib\n"
     ]
    }
   ],
   "source": [
    "save_knn(knn, \"knn/knn_concat_10d\")"
   ]
  },
  {
   "cell_type": "code",
   "execution_count": 121,
   "metadata": {},
   "outputs": [
    {
     "name": "stdout",
     "output_type": "stream",
     "text": [
      "Loaded embeddings, labels, and PCA model from 'knn/knn_statpool_194d'\n"
     ]
    }
   ],
   "source": [
    "knn = load_knn(\"knn/knn_statpool_194d\", embedding_method=global_stats_pool, pca_dim=NODE_FEATURES)"
   ]
  },
  {
   "cell_type": "code",
   "execution_count": null,
   "metadata": {},
   "outputs": [
    {
     "name": "stderr",
     "output_type": "stream",
     "text": [
      "Evaluating k=5:   1%|▏         | 461/31912 [00:07<08:37, 60.77it/s, Acc: 67.10%]"
     ]
    }
   ],
   "source": [
    "import math\n",
    "\n",
    "# Define how many test samples to skip (e.g., only process every 100th sample)\n",
    "skip_factor = 1\n",
    "\n",
    "# Define a range of k values to evaluate.\n",
    "k_values = [5]\n",
    "accuracies = []\n",
    "\n",
    "# Compute the total number of evaluations (if test_loader supports len())\n",
    "total_evals = math.ceil(len(test_loader) / skip_factor) if hasattr(test_loader, '__len__') else None\n",
    "\n",
    "for k in k_values:\n",
    "    # Update the classifier with the new k.\n",
    "    knn.update_k(k)\n",
    "    \n",
    "    correct = 0\n",
    "    total = 0\n",
    "    # Set up tqdm with the total number of evaluations.\n",
    "    with tqdm(total=total_evals, desc=f\"Evaluating k={k}\") as pbar:\n",
    "        i = 0\n",
    "        for batch in test_loader:\n",
    "            # Skip samples that are not every skip_factor-th sample.\n",
    "            if i % skip_factor != 0:\n",
    "                i += 1\n",
    "                continue\n",
    "\n",
    "            # Evaluate this single sample (batch size is 1) using top_c=3.\n",
    "            preds = knn.predict(batch, metric=\"cosine\", top_c=5)  # preds shape: [1, 3]\n",
    "            total += 1\n",
    "            true_label = batch.y.item()\n",
    "            # Check if the true label is among the top 3 predictions.\n",
    "            if true_label in preds[0].tolist():\n",
    "                correct += 1\n",
    "            current_accuracy = 100 * correct / total if total > 0 else 0\n",
    "            pbar.set_postfix_str(f\"Acc: {current_accuracy:.2f}%\")\n",
    "            pbar.update(1)\n",
    "            i += 1\n",
    "\n",
    "    accuracy = 100 * correct / total if total > 0 else 0\n",
    "    print(f\"k = {k}: Test Accuracy = {accuracy:.2f}%\")\n",
    "    accuracies.append(accuracy)"
   ]
  },
  {
   "cell_type": "code",
   "execution_count": 130,
   "metadata": {},
   "outputs": [
    {
     "data": {
      "image/png": "[encoded data removed]",
      "text/plain": [
       "<Figure size 800x600 with 1 Axes>"
      ]
     },
     "metadata": {},
     "output_type": "display_data"
    }
   ],
   "source": [
    "import matplotlib.pyplot as plt\n",
    "\n",
    "# Plot the results.\n",
    "plt.figure(figsize=(8, 6))\n",
    "plt.plot(k_values, accuracies, marker='o')\n",
    "plt.xlabel(\"k (number of neighbors)\")\n",
    "plt.ylabel(\"Test Accuracy (%)\")\n",
    "plt.title(\"Test Accuracy vs. k for KNN Classifier\")\n",
    "plt.grid(True)\n",
    "plt.show()"
   ]
  },
  {
   "cell_type": "code",
   "execution_count": 93,
   "metadata": {},
   "outputs": [],
   "source": [
    "import torch\n",
    "import torch.nn as nn\n",
    "import torch.nn.functional as F\n",
    "from torch_geometric.data import Data\n",
    "from torch_geometric.loader import DataLoader\n",
    "from tqdm import tqdm\n",
    "from sklearn.decomposition import PCA\n",
    "import matplotlib.pyplot as plt\n",
    "\n",
    "# 1. Define an AST embedder that processes the node sequence (in preorder)\n",
    "class ASTEmbedder(nn.Module):\n",
    "    def __init__(self, input_dim, hidden_dim, num_layers=1):\n",
    "        \"\"\"\n",
    "        Args:\n",
    "            input_dim (int): Dimension of each node feature.\n",
    "            hidden_dim (int): Dimension of the GRU hidden state (output embedding size).\n",
    "            num_layers (int): Number of GRU layers.\n",
    "        \"\"\"\n",
    "        super(ASTEmbedder, self).__init__()\n",
    "        self.hidden_dim = hidden_dim\n",
    "        self.num_layers = num_layers\n",
    "        self.gru = nn.GRU(input_dim, hidden_dim, num_layers, batch_first=True)\n",
    "    \n",
    "    def forward(self, node_features):\n",
    "        \"\"\"\n",
    "        Args:\n",
    "            node_features (torch.Tensor): Tensor of shape [B, L, input_dim], where\n",
    "                B is batch size (here 1), and L is the number of nodes.\n",
    "        Returns:\n",
    "            torch.Tensor: Final hidden state of shape [B, hidden_dim].\n",
    "        \"\"\"\n",
    "        # We assume that the sequence is already in the desired preorder.\n",
    "        output, h_n = self.gru(node_features)\n",
    "        # h_n has shape [num_layers, B, hidden_dim]\n",
    "        # Return the hidden state from the last layer.\n",
    "        return h_n[-1, :, :]  # shape [B, hidden_dim]\n",
    "\n",
    "# 2. Update the KNNClassifier to use the ASTEmbedder.\n",
    "class KNNClassifier:\n",
    "    def __init__(self, k=5, embedder=None, pca_dim=None):\n",
    "        \"\"\"\n",
    "        Args:\n",
    "            k (int): Number of nearest neighbors.\n",
    "            embedder (nn.Module): An instance of ASTEmbedder that converts a graph into an embedding.\n",
    "            pca_dim (int, optional): If provided, PCA will reduce embeddings to this dimension.\n",
    "        \"\"\"\n",
    "        self.k = k\n",
    "        self.embedder = embedder  # Should be pre-initialized and set to eval() during inference.\n",
    "        self.train_embeddings = None  # Final embeddings from training data.\n",
    "        self.train_labels = None\n",
    "        self.pca_dim = pca_dim\n",
    "        self.pca = None  # PCA model if dimensionality reduction is desired.\n",
    "    \n",
    "    def update_k(self, new_k):\n",
    "        \"\"\"Update the number of neighbors used for inference.\"\"\"\n",
    "        self.k = new_k\n",
    "    \n",
    "    def get_embedding(self, data):\n",
    "        \"\"\"\n",
    "        Get the fixed-size embedding for an AST.\n",
    "        Args:\n",
    "            data (Data): A torch_geometric Data object containing the node features in data.x.\n",
    "        Returns:\n",
    "            torch.Tensor: Embedding of shape [1, hidden_dim].\n",
    "        \"\"\"\n",
    "        # data.x should be in preorder.\n",
    "        if data.x.size(0) == 0:\n",
    "            # Return a zero embedding if no nodes.\n",
    "            return torch.zeros(1, self.embedder.hidden_dim, device=data.x.device)\n",
    "        # Reshape to [1, num_nodes, input_dim] since batch size = 1.\n",
    "        seq = data.x.unsqueeze(0)\n",
    "        emb = self.embedder(seq)  # shape [1, hidden_dim]\n",
    "        return emb\n",
    "    \n",
    "    def fit(self, loader):\n",
    "        \"\"\"\n",
    "        Build training embeddings using the embedder. Optionally, apply PCA to reduce dimensionality.\n",
    "        \"\"\"\n",
    "        embeddings = []\n",
    "        labels = []\n",
    "        # Set embedder to evaluation mode.\n",
    "        self.embedder.eval()\n",
    "        with torch.no_grad():\n",
    "            for batch in tqdm(loader, desc=\"Fitting\"):\n",
    "                # Assume each batch is a single graph (batch size=1).\n",
    "                if batch.x.size(0) == 0:\n",
    "                    continue\n",
    "                emb = self.get_embedding(batch)  # [1, hidden_dim]\n",
    "                embeddings.append(emb)\n",
    "                labels.append(batch.y.item())\n",
    "        if embeddings:\n",
    "            raw_embeddings = torch.cat(embeddings, dim=0)  # shape: [N, hidden_dim]\n",
    "            self.train_labels = torch.tensor(labels, dtype=torch.long)\n",
    "            if self.pca_dim is not None:\n",
    "                # Fit PCA on the training embeddings.\n",
    "                raw_np = raw_embeddings.cpu().numpy()\n",
    "                self.pca = PCA(n_components=self.pca_dim)\n",
    "                transformed = self.pca.fit_transform(raw_np)\n",
    "                self.train_embeddings = torch.tensor(transformed, dtype=torch.float)\n",
    "            else:\n",
    "                self.train_embeddings = raw_embeddings\n",
    "        else:\n",
    "            hidden_dim = self.embedder.hidden_dim\n",
    "            out_dim = self.pca_dim if self.pca_dim is not None else hidden_dim\n",
    "            self.train_embeddings = torch.empty((0, out_dim))\n",
    "            self.train_labels = torch.empty((0,), dtype=torch.long)\n",
    "    \n",
    "    def predict(self, data):\n",
    "        \"\"\"\n",
    "        Predict the label for a single AST.\n",
    "        Returns:\n",
    "            int: Predicted label.\n",
    "        \"\"\"\n",
    "        self.embedder.eval()\n",
    "        with torch.no_grad():\n",
    "            emb = self.get_embedding(data)  # [1, hidden_dim]\n",
    "            if self.pca is not None:\n",
    "                emb_np = emb.cpu().numpy()\n",
    "                emb_transformed = self.pca.transform(emb_np)  # [1, pca_dim]\n",
    "                emb_tensor = torch.tensor(emb_transformed, dtype=torch.float)\n",
    "            else:\n",
    "                emb_tensor = emb\n",
    "            if self.train_embeddings.size(0) == 0:\n",
    "                return 0\n",
    "            # Compute Euclidean distances.\n",
    "            dists = torch.norm(self.train_embeddings - emb_tensor.squeeze(0), dim=1)\n",
    "            knn_indices = torch.topk(dists, self.k, largest=False).indices\n",
    "            knn_labels = self.train_labels[knn_indices].flatten().long()\n",
    "            if knn_labels.numel() == 0 or (knn_labels < 0).any():\n",
    "                return 0\n",
    "            counts = torch.bincount(knn_labels)\n",
    "            pred = torch.argmax(counts)\n",
    "            return pred.item()"
   ]
  },
  {
   "cell_type": "code",
   "execution_count": 95,
   "metadata": {},
   "outputs": [
    {
     "name": "stderr",
     "output_type": "stream",
     "text": [
      "Fitting: 100%|██████████| 287208/287208 [14:02<00:00, 340.77it/s] \n"
     ]
    }
   ],
   "source": [
    "NODE_FEATURE_DIM = 194\n",
    "HIDDEN_DIM = 128      \n",
    "PCA_DIM = 100         \n",
    "\n",
    "# Initialize the AST embedder.\n",
    "ast_embedder = ASTEmbedder(input_dim=NODE_FEATURE_DIM, hidden_dim=HIDDEN_DIM, num_layers=1)\n",
    "\n",
    "# Initialize the KNN classifier with the embedder.\n",
    "knn = KNNClassifier(embedder=ast_embedder, pca_dim=PCA_DIM)\n",
    "\n",
    "# Assume that `train_dataset` and `test_dataset` are defined and that each graph's node features\n",
    "# are in preorder (from your AST traversal).\n",
    "# Create DataLoaders with batch_size=1.\n",
    "train_loader = DataLoader(train_dataset, batch_size=1, shuffle=False, num_workers=0)\n",
    "test_loader = DataLoader(test_dataset, batch_size=1, shuffle=False, num_workers=0)\n",
    "\n",
    "# Fit the classifier (build training embeddings).\n",
    "knn.fit(train_loader)"
   ]
  },
  {
   "cell_type": "code",
   "execution_count": 96,
   "metadata": {},
   "outputs": [],
   "source": [
    "# updated save/load with embedder\n",
    "\n",
    "import torch\n",
    "import joblib\n",
    "\n",
    "def save_knn(knn_model, file_prefix):\n",
    "    \"\"\"\n",
    "    Save the KNNClassifier training data and embedder state to disk.\n",
    "    \n",
    "    Files saved:\n",
    "      - Embeddings to '<file_prefix>_embeddings.pt'\n",
    "      - Labels to '<file_prefix>_labels.pt'\n",
    "      - Embedder state to '<file_prefix>_embedder.pt'\n",
    "      - PCA model (if available) to '<file_prefix>_pca.joblib'\n",
    "    \n",
    "    Parameters:\n",
    "      knn_model (KNNClassifier): The trained KNN classifier.\n",
    "      file_prefix (str): A prefix for the saved file names.\n",
    "    \"\"\"\n",
    "    if knn_model.train_embeddings is None or knn_model.train_labels is None:\n",
    "        print(\"No training data available to save.\")\n",
    "        return\n",
    "\n",
    "    torch.save(knn_model.train_embeddings, f\"{file_prefix}_embeddings.pt\")\n",
    "    torch.save(knn_model.train_labels, f\"{file_prefix}_labels.pt\")\n",
    "    torch.save(knn_model.embedder.state_dict(), f\"{file_prefix}_embedder.pt\")\n",
    "    print(f\"Saved embeddings to {file_prefix}_embeddings.pt\")\n",
    "    print(f\"Saved labels to {file_prefix}_labels.pt\")\n",
    "    print(f\"Saved embedder state to {file_prefix}_embedder.pt\")\n",
    "    \n",
    "    if knn_model.pca is not None:\n",
    "        joblib.dump(knn_model.pca, f\"{file_prefix}_pca.joblib\")\n",
    "        print(f\"Saved PCA model to {file_prefix}_pca.joblib\")\n",
    "\n",
    "def load_knn(file_prefix, embedder, k=5, pca_dim=100):\n",
    "    \"\"\"\n",
    "    Load a KNNClassifier from previously saved training data.\n",
    "    \n",
    "    Files loaded:\n",
    "      - '<file_prefix>_embeddings.pt'\n",
    "      - '<file_prefix>_labels.pt'\n",
    "      - '<file_prefix>_embedder.pt'\n",
    "      - '<file_prefix>_pca.joblib' (if available)\n",
    "      \n",
    "    Parameters:\n",
    "      file_prefix (str): The prefix used when saving the model.\n",
    "      embedder (nn.Module): A new instance of the embedder model with the same architecture.\n",
    "      k (int): The number of neighbors to use.\n",
    "      pca_dim (int): The PCA output dimension (if PCA was used).\n",
    "      \n",
    "    Returns:\n",
    "      An instance of KNNClassifier with the loaded training embeddings, labels, embedder state, and PCA model.\n",
    "    \"\"\"\n",
    "    # Create a new KNNClassifier instance using the provided embedder.\n",
    "    instance = KNNClassifier(k=k, embedder=embedder, pca_dim=pca_dim)\n",
    "    try:\n",
    "        instance.train_embeddings = torch.load(f\"{file_prefix}_embeddings.pt\")\n",
    "        instance.train_labels = torch.load(f\"{file_prefix}_labels.pt\")\n",
    "        embedder_state = torch.load(f\"{file_prefix}_embedder.pt\")\n",
    "        instance.embedder.load_state_dict(embedder_state)\n",
    "        try:\n",
    "            instance.pca = joblib.load(f\"{file_prefix}_pca.joblib\")\n",
    "        except Exception as e:\n",
    "            print(\"PCA model not found, proceeding without PCA.\")\n",
    "        print(f\"Loaded embeddings, labels, embedder, and PCA model from '{file_prefix}'\")\n",
    "    except Exception as e:\n",
    "        print(\"Error loading saved KNN data:\", e)\n",
    "    return instance"
   ]
  },
  {
   "cell_type": "code",
   "execution_count": 97,
   "metadata": {},
   "outputs": [
    {
     "name": "stdout",
     "output_type": "stream",
     "text": [
      "Saved embeddings to knn/knn_gru_100d_embeddings.pt\n",
      "Saved labels to knn/knn_gru_100d_labels.pt\n",
      "Saved embedder state to knn/knn_gru_100d_embedder.pt\n",
      "Saved PCA model to knn/knn_gru_100d_pca.joblib\n"
     ]
    }
   ],
   "source": [
    "save_knn(knn, \"knn/knn_gru_100d\")"
   ]
  },
  {
   "cell_type": "code",
   "execution_count": 99,
   "metadata": {},
   "outputs": [
    {
     "name": "stdout",
     "output_type": "stream",
     "text": [
      "Loaded embeddings, labels, embedder, and PCA model from 'knn/knn_gru_100d'\n"
     ]
    }
   ],
   "source": [
    "knn = load_knn(\"knn/knn_gru_100d\", embedder=ast_embedder)"
   ]
  },
  {
   "cell_type": "code",
   "execution_count": 100,
   "metadata": {},
   "outputs": [
    {
     "name": "stderr",
     "output_type": "stream",
     "text": [
      "Evaluating k=1: 100%|██████████| 320/320 [00:17<00:00, 18.26it/s, Acc: 43.75%]\n"
     ]
    },
    {
     "name": "stdout",
     "output_type": "stream",
     "text": [
      "k = 1: Test Accuracy = 43.75%\n"
     ]
    },
    {
     "name": "stderr",
     "output_type": "stream",
     "text": [
      "Evaluating k=2: 100%|██████████| 320/320 [00:18<00:00, 17.33it/s, Acc: 38.44%]\n"
     ]
    },
    {
     "name": "stdout",
     "output_type": "stream",
     "text": [
      "k = 2: Test Accuracy = 38.44%\n"
     ]
    },
    {
     "name": "stderr",
     "output_type": "stream",
     "text": [
      "Evaluating k=4: 100%|██████████| 320/320 [00:18<00:00, 17.46it/s, Acc: 34.06%]\n"
     ]
    },
    {
     "name": "stdout",
     "output_type": "stream",
     "text": [
      "k = 4: Test Accuracy = 34.06%\n"
     ]
    },
    {
     "name": "stderr",
     "output_type": "stream",
     "text": [
      "Evaluating k=8: 100%|██████████| 320/320 [00:18<00:00, 17.67it/s, Acc: 29.06%]\n"
     ]
    },
    {
     "name": "stdout",
     "output_type": "stream",
     "text": [
      "k = 8: Test Accuracy = 29.06%\n"
     ]
    },
    {
     "name": "stderr",
     "output_type": "stream",
     "text": [
      "Evaluating k=16: 100%|██████████| 320/320 [00:18<00:00, 17.56it/s, Acc: 28.12%]\n"
     ]
    },
    {
     "name": "stdout",
     "output_type": "stream",
     "text": [
      "k = 16: Test Accuracy = 28.12%\n"
     ]
    },
    {
     "name": "stderr",
     "output_type": "stream",
     "text": [
      "Evaluating k=32: 100%|██████████| 320/320 [00:18<00:00, 17.39it/s, Acc: 21.88%]\n"
     ]
    },
    {
     "name": "stdout",
     "output_type": "stream",
     "text": [
      "k = 32: Test Accuracy = 21.88%\n"
     ]
    },
    {
     "name": "stderr",
     "output_type": "stream",
     "text": [
      "Evaluating k=64: 100%|██████████| 320/320 [00:18<00:00, 17.75it/s, Acc: 19.69%]"
     ]
    },
    {
     "name": "stdout",
     "output_type": "stream",
     "text": [
      "k = 64: Test Accuracy = 19.69%\n"
     ]
    },
    {
     "name": "stderr",
     "output_type": "stream",
     "text": [
      "\n"
     ]
    }
   ],
   "source": [
    "# evaluate!\n",
    "import math\n",
    "\n",
    "# Define how many test samples to skip (e.g., only process every 5th sample)\n",
    "skip_factor = 100\n",
    "\n",
    "# Define a range of k values to evaluate.\n",
    "k_values = [1, 2, 4, 8, 16, 32, 64]\n",
    "accuracies = []\n",
    "\n",
    "# If test_loader supports len(), compute the total number of evaluations.\n",
    "total_evals = math.ceil(len(test_loader) / skip_factor) if hasattr(test_loader, '__len__') else None\n",
    "\n",
    "for k in k_values:\n",
    "    # Update the classifier with the new k.\n",
    "    knn.update_k(k)\n",
    "    \n",
    "    correct = 0\n",
    "    total = 0\n",
    "    # Set up tqdm with the total number of evaluations.\n",
    "    with tqdm(total=total_evals, desc=f\"Evaluating k={k}\") as pbar:\n",
    "        i = 0\n",
    "        for batch in test_loader:\n",
    "            # Skip samples that are not every skip_factor-th sample.\n",
    "            if i % skip_factor != 0:\n",
    "                i += 1\n",
    "                continue\n",
    "\n",
    "            # Evaluate this single sample (batch size is 1).\n",
    "            pred = knn.predict(batch)\n",
    "            total += 1\n",
    "            if pred == batch.y.item():\n",
    "                correct += 1\n",
    "            current_accuracy = 100 * correct / total if total > 0 else 0\n",
    "            pbar.set_postfix_str(f\"Acc: {current_accuracy:.2f}%\")\n",
    "            pbar.update(1)\n",
    "            i += 1\n",
    "\n",
    "    accuracy = 100 * correct / total if total > 0 else 0\n",
    "    print(f\"k = {k}: Test Accuracy = {accuracy:.2f}%\")\n",
    "    accuracies.append(accuracy)"
   ]
  }
 ],
 "metadata": {
  "kernelspec": {
   "display_name": "Python 3",
   "language": "python",
   "name": "python3"
  },
  "language_info": {
   "codemirror_mode": {
    "name": "ipython",
    "version": 3
   },
   "file_extension": ".py",
   "mimetype": "text/x-python",
   "name": "python",
   "nbconvert_exporter": "python",
   "pygments_lexer": "ipython3",
   "version": "3.9.6"
  }
 },
 "nbformat": 4,
 "nbformat_minor": 2
}
